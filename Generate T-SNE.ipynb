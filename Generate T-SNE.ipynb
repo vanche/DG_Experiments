{
 "cells": [
  {
   "cell_type": "code",
   "execution_count": 1,
   "metadata": {},
   "outputs": [],
   "source": [
    "import os\n",
    "import glob\n",
    "import random\n",
    "import itertools\n",
    "import pandas as pd\n",
    "import numpy as np\n",
    "from PIL import Image\n",
    "from sklearn.decomposition import PCA\n",
    "from sklearn.manifold import TSNE"
   ]
  },
  {
   "cell_type": "code",
   "execution_count": 2,
   "metadata": {},
   "outputs": [],
   "source": [
    "iteration_list = [250, 500]\n",
    "perplexity_list = [3, 10, 30]\n",
    "pca_dim_list = [25, 50]\n",
    "learning_rate_list = [10, 50]\n",
    "SEED=2020\n",
    "\n",
    "datasets_path = {\n",
    "    'BDD':'./bdd100k/seg/images',\n",
    "    'cityscape':'./cityscape/leftImg8bit',\n",
    "    'GTA':'./GTA/*_images'\n",
    "}\n",
    "\n",
    "def set_seed(SEED):\n",
    "    random.seed(SEED)\n",
    "    np.random.seed(SEED)"
   ]
  },
  {
   "cell_type": "markdown",
   "metadata": {},
   "source": [
    "## Sample images"
   ]
  },
  {
   "cell_type": "code",
   "execution_count": 7,
   "metadata": {},
   "outputs": [],
   "source": [
    "def sample_images(datasets_path, SEED=2020, n_sample=800):\n",
    "    images_path = []\n",
    "    images_label = []\n",
    "    \n",
    "    set_seed(SEED)\n",
    "    for key, dataset_path in datasets_path.items():\n",
    "        all_image_path = glob.glob(os.path.join(dataset_path, '**', '*.*'), recursive=True)\n",
    "        image_path_sample = random.sample(all_image_path, n_sample)\n",
    "        \n",
    "        images_path.extend(image_path_sample)\n",
    "        images_label.extend([key] * n_sample)\n",
    "    \n",
    "    ids = [i for i in range(n_sample * len(datasets_path.keys()))]\n",
    "    random.shuffle(ids)\n",
    "    images_label = [images_label[i] for i in ids]\n",
    "    images_path = [images_path[i] for i in ids]\n",
    "    return images_path, images_label"
   ]
  },
  {
   "cell_type": "code",
   "execution_count": 8,
   "metadata": {},
   "outputs": [],
   "source": [
    "images_path, images_label = sample_images(datasets_path)"
   ]
  },
  {
   "cell_type": "markdown",
   "metadata": {},
   "source": [
    "# Generaete tsne"
   ]
  },
  {
   "cell_type": "code",
   "execution_count": 15,
   "metadata": {},
   "outputs": [],
   "source": [
    "def generate_tsne(images_path, images_label, iteration_list, perplexitay_list, pca_dim_list, learning_rate_list, output_path='./csv_data'):\n",
    "    os.makedirs(output_path, exist_ok=True)\n",
    "    \n",
    "    for mode in ['L', 'RGB']:\n",
    "        images = []\n",
    "        for image_path in images_path:\n",
    "            img = Image.open(image_path)\n",
    "            img = img.resize((512, 512))\n",
    "            img = img.convert(mode)\n",
    "            images.append(np.array(img))\n",
    "\n",
    "        images = np.stack(images)\n",
    "        images = images.reshape([images.shape[0], -1])\n",
    "        \n",
    "        hparam_list = list(itertools.product(iteration_list, perplexitay_list, pca_dim_list, learning_rate_list))\n",
    "        for hparam in hparam_list:\n",
    "            iteration, perplexity, pca_dim, learning_rate = hparam\n",
    "            pca = PCA(n_components=min(images.shape[0], pca_dim))\n",
    "            images_pca = pca.fit_transform(images)\n",
    "\n",
    "            tsne = TSNE(\n",
    "                n_components=3,\n",
    "                n_iter=iteration,\n",
    "                perplexity=perplexity,\n",
    "                learning_rate=learning_rate,\n",
    "                random_state=SEED\n",
    "            )\n",
    "\n",
    "            emb = tsne.fit_transform(images_pca)\n",
    "            emb_df = pd.DataFrame(emb, columns=['x', 'y', 'z'])\n",
    "            emb_df['img_path'] = images_path\n",
    "            emb_df['img_label'] = images_label\n",
    "            emb_df_path = os.path.join(output_path, f'tsne_{iteration}_{perplexity}_{pca_dim}_{learning_rate}_{mode}.csv')\n",
    "            emb_df.to_csv(emb_df_path, index=False)"
   ]
  },
  {
   "cell_type": "code",
   "execution_count": null,
   "metadata": {},
   "outputs": [],
   "source": [
    "generate_tsne(images_path, images_label, iteration_list, perplexity_list, pca_dim_list, learning_rate_list)"
   ]
  },
  {
   "cell_type": "code",
   "execution_count": null,
   "metadata": {},
   "outputs": [],
   "source": []
  }
 ],
 "metadata": {
  "kernelspec": {
   "display_name": "Python 3",
   "language": "python",
   "name": "python3"
  },
  "language_info": {
   "codemirror_mode": {
    "name": "ipython",
    "version": 3
   },
   "file_extension": ".py",
   "mimetype": "text/x-python",
   "name": "python",
   "nbconvert_exporter": "python",
   "pygments_lexer": "ipython3",
   "version": "3.7.3"
  }
 },
 "nbformat": 4,
 "nbformat_minor": 2
}
